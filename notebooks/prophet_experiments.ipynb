{
 "cells": [
  {
   "metadata": {},
   "cell_type": "markdown",
   "source": "CONNECT TO THE PROJECT ROOT",
   "id": "f43a0311cf9edeca"
  },
  {
   "cell_type": "code",
   "execution_count": null,
   "id": "initial_id",
   "metadata": {
    "collapsed": true
   },
   "outputs": [],
   "source": [
    "import os\n",
    "import sys\n",
    "\n",
    "# Get the absolute path of the current notebook\n",
    "notebook_dir = os.path.dirname(os.path.abspath(\"__file__\"))\n",
    "\n",
    "# Navigate up one directory to get the project root\n",
    "project_root = os.path.abspath(os.path.join(notebook_dir, \"..\"))\n",
    "\n",
    "# Add the project root to sys.path if not already present\n",
    "if project_root not in sys.path:\n",
    "    sys.path.append(project_root)\n",
    "\n",
    "print(f\"Project root added to sys.path: {project_root}\")\n"
   ]
  },
  {
   "metadata": {},
   "cell_type": "markdown",
   "source": "",
   "id": "d8d8abcae5fcb888"
  },
  {
   "metadata": {},
   "cell_type": "markdown",
   "source": "CREATE THE TIME SERIES DIRECTOR",
   "id": "8ef26e65a27e7ede"
  },
  {
   "metadata": {},
   "cell_type": "markdown",
   "source": "",
   "id": "15f3192e77af126a"
  }
 ],
 "metadata": {
  "kernelspec": {
   "display_name": "Python 3",
   "language": "python",
   "name": "python3"
  },
  "language_info": {
   "codemirror_mode": {
    "name": "ipython",
    "version": 2
   },
   "file_extension": ".py",
   "mimetype": "text/x-python",
   "name": "python",
   "nbconvert_exporter": "python",
   "pygments_lexer": "ipython2",
   "version": "2.7.6"
  }
 },
 "nbformat": 4,
 "nbformat_minor": 5
}
