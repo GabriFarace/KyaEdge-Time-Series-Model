{
 "cells": [
  {
   "metadata": {},
   "cell_type": "markdown",
   "source": "# Prophet Time Series Experiments",
   "id": "f43a0311cf9edeca"
  },
  {
   "metadata": {},
   "cell_type": "markdown",
   "source": "## Import and Setup ",
   "id": "6c598cad0dabaae5"
  },
  {
   "metadata": {},
   "cell_type": "markdown",
   "source": "### Connect to project directory",
   "id": "a9ddd7a461fc44ca"
  },
  {
   "cell_type": "code",
   "id": "initial_id",
   "metadata": {
    "collapsed": true,
    "ExecuteTime": {
     "end_time": "2024-12-17T14:56:33.813856Z",
     "start_time": "2024-12-17T14:56:33.802108Z"
    }
   },
   "source": [
    "import os\n",
    "import sys\n",
    "\n",
    "# Get the absolute path of the current notebook\n",
    "notebook_dir = os.path.dirname(os.path.abspath(\"__file__\"))\n",
    "\n",
    "# Navigate up one directory to get the project root\n",
    "project_root = os.path.abspath(os.path.join(notebook_dir, \"..\"))\n",
    "\n",
    "# Add the project root to sys.path if not already present\n",
    "if project_root not in sys.path:\n",
    "    sys.path.append(project_root)\n",
    "\n",
    "print(f\"Project root added to sys.path: {project_root}\")\n"
   ],
   "outputs": [
    {
     "name": "stdout",
     "output_type": "stream",
     "text": [
      "Project root added to sys.path: C:\\Users\\farac\\PycharmProjects\\KyaEdge\\Time-Series-Model\n"
     ]
    }
   ],
   "execution_count": 1
  },
  {
   "metadata": {},
   "cell_type": "markdown",
   "source": "### Create generator ",
   "id": "8ef26e65a27e7ede"
  },
  {
   "metadata": {},
   "cell_type": "code",
   "outputs": [],
   "execution_count": null,
   "source": [
    "from time_series_generation.prophet_style.tsg_prophet import *\n",
    "from matplotlib import pyplot as plt\n",
    "configs = ParametersGenerationConfigs()\n",
    "generator = TimeSeriesDirectorProphet(TimeSeriesGeneratorProphet(), configs)\n"
   ],
   "id": "7ba0825c4dc20503"
  },
  {
   "metadata": {},
   "cell_type": "markdown",
   "source": "### Define functions that translate time series in dataframes requested by prophet",
   "id": "f03522af3af1f4a8"
  },
  {
   "metadata": {},
   "cell_type": "code",
   "outputs": [],
   "execution_count": null,
   "source": [
    "import numpy as np\n",
    "import pandas as pd\n",
    "from datetime import datetime, timedelta\n",
    "\n",
    "def create_prophet_dataframe(time_series, start_date=None):\n",
    "    \"\"\"\n",
    "    Converts a NumPy time series into a Pandas DataFrame formatted for Prophet.\n",
    "\n",
    "    Parameters:\n",
    "    - time_series (numpy.ndarray): The time series data (numeric values).\n",
    "    - start_date (str or datetime, optional): The start date for the time series. Defaults to today.\n",
    "\n",
    "    Returns:\n",
    "    - pd.DataFrame: A DataFrame with 'ds' and 'y' columns for Prophet.\n",
    "    \"\"\"\n",
    "    if start_date is None:\n",
    "        start_date = datetime.today()\n",
    "    else:\n",
    "        start_date = pd.to_datetime(start_date)\n",
    "\n",
    "    # Create date range starting from the given start_date\n",
    "    dates = [start_date + timedelta(days=i) for i in range(len(time_series))]\n",
    "\n",
    "    # Create the DataFrame\n",
    "    df = pd.DataFrame({\n",
    "        'ds': dates,\n",
    "        'y': time_series\n",
    "    })\n",
    "    \n",
    "    return df"
   ],
   "id": "7698df726b372500"
  },
  {
   "metadata": {},
   "cell_type": "markdown",
   "source": "### Create time series",
   "id": "c1382223c1ef3814"
  },
  {
   "metadata": {},
   "cell_type": "code",
   "outputs": [],
   "execution_count": null,
   "source": [
    "        time_series = generator.make_ts_conditional(TimeSeriesFlags(True, False, True, True, True, False, False))\n",
    "        plt.figure(figsize=(12, 6))\n",
    "        plt.plot(time_series, label=\"Generated Time Series Prophet style\")\n",
    "        plt.xlabel(\"Time (Days)\")\n",
    "        plt.ylabel(\"Value\")\n",
    "        plt.legend()\n",
    "        plt.show()"
   ],
   "id": "56433bdf09305a23"
  }
 ],
 "metadata": {
  "kernelspec": {
   "display_name": "Python 3",
   "language": "python",
   "name": "python3"
  },
  "language_info": {
   "codemirror_mode": {
    "name": "ipython",
    "version": 2
   },
   "file_extension": ".py",
   "mimetype": "text/x-python",
   "name": "python",
   "nbconvert_exporter": "python",
   "pygments_lexer": "ipython2",
   "version": "2.7.6"
  }
 },
 "nbformat": 4,
 "nbformat_minor": 5
}
